import pandas as pd
import os

diretorio = input('Diretório:')
arquivo = input('Arquivo:')
destino = input('Diretorio de Destino:')

for file_diretorio,_,file in os.walk(diretorio):
   for file_name in file:
        file_path = os.path.join(file_diretorio,file_name)
        if  file_name == arquivo and os.path.exists(file_path):
            bundesliga = pd.read_csv(file_path)
try: 
    bundesliga.drop(columns='Unnamed: 0',inplace=True)
    bundesliga.dropna(subset = ['price','max_price'],axis = 0,inplace=True)
    bundesliga['full_name'] = bundesliga['full_name'].fillna(bundesliga['name'])
    bundesliga['name'] = bundesliga['name'].apply(lambda x: x.split()[0])
    bundesliga['joined_club'] = pd.to_datetime(bundesliga['joined_club'])
    bundesliga['contract_expires'] = pd.to_datetime(bundesliga['contract_expires'])
    bundesliga.to_excel(destino,index=False)
      
except:
    print('Dataframe bundesliga não criado')

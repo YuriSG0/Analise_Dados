{
 "cells": [
  {
   "cell_type": "code",
   "execution_count": null,
   "id": "2f977139-034c-4316-8a34-037caa69ea45",
   "metadata": {},
   "outputs": [],
   "source": [
    "import pandas as pd\n",
    "import os\n",
    "\n",
    "diretorio = input('Diretório:')\n",
    "arquivo = input('Arquivo:')\n",
    "destino = input('Diretorio de Destino:')\n",
    "\n",
    "for file_diretorio,_,file in os.walk(diretorio):\n",
    "   for file_name in file:\n",
    "        file_path = os.path.join(file_diretorio,file_name)\n",
    "        if  file_name == arquivo and os.path.exists(file_path):\n",
    "            bundesliga = pd.read_csv(file_path)\n",
    "try: \n",
    "    bundesliga.drop(columns='Unnamed: 0',inplace=True)\n",
    "    bundesliga.dropna(subset = ['price','max_price'],axis = 0,inplace=True)\n",
    "    bundesliga['full_name'] = bundesliga['full_name'].fillna(bundesliga['name'])\n",
    "    bundesliga['name'] = bundesliga['name'].apply(lambda x: x.split()[0])\n",
    "    bundesliga['joined_club'] = pd.to_datetime(bundesliga['joined_club'])\n",
    "    bundesliga['contract_expires'] = pd.to_datetime(bundesliga['contract_expires'])\n",
    "    bundesliga.to_excel(destino,index=False)\n",
    "      \n",
    "except:\n",
    "    print('Dataframe bundesliga não criado')"
   ]
  }
 ],
 "metadata": {
  "kernelspec": {
   "display_name": "Python 3 (ipykernel)",
   "language": "python",
   "name": "python3"
  },
  "language_info": {
   "codemirror_mode": {
    "name": "ipython",
    "version": 3
   },
   "file_extension": ".py",
   "mimetype": "text/x-python",
   "name": "python",
   "nbconvert_exporter": "python",
   "pygments_lexer": "ipython3",
   "version": "3.11.7"
  }
 },
 "nbformat": 4,
 "nbformat_minor": 5
}

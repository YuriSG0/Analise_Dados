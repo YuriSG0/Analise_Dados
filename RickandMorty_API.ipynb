{
 "cells": [
  {
   "cell_type": "markdown",
   "id": "b2c370d8-5d61-4577-9bef-dd74f4d903dc",
   "metadata": {},
   "source": [
    "## Importando Bibliotecas"
   ]
  },
  {
   "cell_type": "code",
   "execution_count": 30,
   "id": "b453024a-4570-4e41-8361-91c44a0fb961",
   "metadata": {},
   "outputs": [],
   "source": [
    "import requests \n",
    "import pandas as pd\n",
    "import matplotlib.pyplot as plt\n"
   ]
  },
  {
   "cell_type": "markdown",
   "id": "25171d7d-1ca0-4663-9bb2-be0073f72bf6",
   "metadata": {},
   "source": [
    "### Requisição API e Exibição da resposta em json"
   ]
  },
  {
   "cell_type": "code",
   "execution_count": 3,
   "id": "4993768a-7fce-4b81-9318-0946690aef4d",
   "metadata": {
    "scrolled": true
   },
   "outputs": [
    {
     "name": "stdout",
     "output_type": "stream",
     "text": [
      "{'info': {'count': 826, 'pages': 42, 'next': 'https://rickandmortyapi.com/api/character?page=2', 'prev': None}, 'results': [{'id': 1, 'name': 'Rick Sanchez', 'status': 'Alive', 'species': 'Human', 'type': '', 'gender': 'Male', 'origin': {'name': 'Earth (C-137)', 'url': 'https://rickandmortyapi.com/api/location/1'}, 'location': {'name': 'Citadel of Ricks', 'url': 'https://rickandmortyapi.com/api/location/3'}, 'image': 'https://rickandmortyapi.com/api/character/avatar/1.jpeg', 'episode': ['https://rickandmortyapi.com/api/episode/1', 'https://rickandmortyapi.com/api/episode/2', 'https://rickandmortyapi.com/api/episode/3', 'https://rickandmortyapi.com/api/episode/4', 'https://rickandmortyapi.com/api/episode/5', 'https://rickandmortyapi.com/api/episode/6', 'https://rickandmortyapi.com/api/episode/7', 'https://rickandmortyapi.com/api/episode/8', 'https://rickandmortyapi.com/api/episode/9', 'https://rickandmortyapi.com/api/episode/10', 'https://rickandmortyapi.com/api/episode/11', 'https://rickandmortyapi.com/api/episode/12', 'https://rickandmortyapi.com/api/episode/13', 'https://rickandmortyapi.com/api/episode/14', 'https://rickandmortyapi.com/api/episode/15', 'https://rickandmortyapi.com/api/episode/16', 'https://rickandmortyapi.com/api/episode/17', 'https://rickandmortyapi.com/api/episode/18', 'https://rickandmortyapi.com/api/episode/19', 'https://rickandmortyapi.com/api/episode/20', 'https://rickandmortyapi.com/api/episode/21', 'https://rickandmortyapi.com/api/episode/22', 'https://rickandmortyapi.com/api/episode/23', 'https://rickandmortyapi.com/api/episode/24', 'https://rickandmortyapi.com/api/episode/25', 'https://rickandmortyapi.com/api/episode/26', 'https://rickandmortyapi.com/api/episode/27', 'https://rickandmortyapi.com/api/episode/28', 'https://rickandmortyapi.com/api/episode/29', 'https://rickandmortyapi.com/api/episode/30', 'https://rickandmortyapi.com/api/episode/31', 'https://rickandmortyapi.com/api/episode/32', 'https://rickandmortyapi.com/api/episode/33', 'https://rickandmortyapi.com/api/episode/34', 'https://rickandmortyapi.com/api/episode/35', 'https://rickandmortyapi.com/api/episode/36', 'https://rickandmortyapi.com/api/episode/37', 'https://rickandmortyapi.com/api/episode/38', 'https://rickandmortyapi.com/api/episode/39', 'https://rickandmortyapi.com/api/episode/40', 'https://rickandmortyapi.com/api/episode/41', 'https://rickandmortyapi.com/api/episode/42', 'https://rickandmortyapi.com/api/episode/43', 'https://rickandmortyapi.com/api/episode/44', 'https://rickandmortyapi.com/api/episode/45', 'https://rickandmortyapi.com/api/episode/46', 'https://rickandmortyapi.com/api/episode/47', 'https://rickandmortyapi.com/api/episode/48', 'https://rickandmortyapi.com/api/episode/49', 'https://rickandmortyapi.com/api/episode/50', 'https://rickandmortyapi.com/api/episode/51'], 'url': 'https://rickandmortyapi.com/api/character/1', 'created': '2017-11-04T18:48:46.250Z'}, {'id': 2, 'name': 'Morty Smith', 'status': 'Alive', 'species': 'Human', 'type': '', 'gender': 'Male', 'origin': {'name': 'unknown', 'url': ''}, 'location': {'name': 'Citadel of Ricks', 'url': 'https://rickandmortyapi.com/api/location/3'}, 'image': 'https://rickandmortyapi.com/api/character/avatar/2.jpeg', 'episode': ['https://rickandmortyapi.com/api/episode/1', 'https://rickandmortyapi.com/api/episode/2', 'https://rickandmortyapi.com/api/episode/3', 'https://rickandmortyapi.com/api/episode/4', 'https://rickandmortyapi.com/api/episode/5', 'https://rickandmortyapi.com/api/episode/6', 'https://rickandmortyapi.com/api/episode/7', 'https://rickandmortyapi.com/api/episode/8', 'https://rickandmortyapi.com/api/episode/9', 'https://rickandmortyapi.com/api/episode/10', 'https://rickandmortyapi.com/api/episode/11', 'https://rickandmortyapi.com/api/episode/12', 'https://rickandmortyapi.com/api/episode/13', 'https://rickandmortyapi.com/api/episode/14', 'https://rickandmortyapi.com/api/episode/15', 'https://rickandmortyapi.com/api/episode/16', 'https://rickandmortyapi.com/api/episode/17', 'https://rickandmortyapi.com/api/episode/18', 'https://rickandmortyapi.com/api/episode/19', 'https://rickandmortyapi.com/api/episode/20', 'https://rickandmortyapi.com/api/episode/21', 'https://rickandmortyapi.com/api/episode/22', 'https://rickandmortyapi.com/api/episode/23', 'https://rickandmortyapi.com/api/episode/24', 'https://rickandmortyapi.com/api/episode/25', 'https://rickandmortyapi.com/api/episode/26', 'https://rickandmortyapi.com/api/episode/27', 'https://rickandmortyapi.com/api/episode/28', 'https://rickandmortyapi.com/api/episode/29', 'https://rickandmortyapi.com/api/episode/30', 'https://rickandmortyapi.com/api/episode/31', 'https://rickandmortyapi.com/api/episode/32', 'https://rickandmortyapi.com/api/episode/33', 'https://rickandmortyapi.com/api/episode/34', 'https://rickandmortyapi.com/api/episode/35', 'https://rickandmortyapi.com/api/episode/36', 'https://rickandmortyapi.com/api/episode/37', 'https://rickandmortyapi.com/api/episode/38', 'https://rickandmortyapi.com/api/episode/39', 'https://rickandmortyapi.com/api/episode/40', 'https://rickandmortyapi.com/api/episode/41', 'https://rickandmortyapi.com/api/episode/42', 'https://rickandmortyapi.com/api/episode/43', 'https://rickandmortyapi.com/api/episode/44', 'https://rickandmortyapi.com/api/episode/45', 'https://rickandmortyapi.com/api/episode/46', 'https://rickandmortyapi.com/api/episode/47', 'https://rickandmortyapi.com/api/episode/48', 'https://rickandmortyapi.com/api/episode/49', 'https://rickandmortyapi.com/api/episode/50', 'https://rickandmortyapi.com/api/episode/51'], 'url': 'https://rickandmortyapi.com/api/character/2', 'created': '2017-11-04T18:50:21.651Z'}, {'id': 3, 'name': 'Summer Smith', 'status': 'Alive', 'species': 'Human', 'type': '', 'gender': 'Female', 'origin': {'name': 'Earth (Replacement Dimension)', 'url': 'https://rickandmortyapi.com/api/location/20'}, 'location': {'name': 'Earth (Replacement Dimension)', 'url': 'https://rickandmortyapi.com/api/location/20'}, 'image': 'https://rickandmortyapi.com/api/character/avatar/3.jpeg', 'episode': ['https://rickandmortyapi.com/api/episode/6', 'https://rickandmortyapi.com/api/episode/7', 'https://rickandmortyapi.com/api/episode/8', 'https://rickandmortyapi.com/api/episode/9', 'https://rickandmortyapi.com/api/episode/10', 'https://rickandmortyapi.com/api/episode/11', 'https://rickandmortyapi.com/api/episode/12', 'https://rickandmortyapi.com/api/episode/14', 'https://rickandmortyapi.com/api/episode/15', 'https://rickandmortyapi.com/api/episode/16', 'https://rickandmortyapi.com/api/episode/17', 'https://rickandmortyapi.com/api/episode/18', 'https://rickandmortyapi.com/api/episode/19', 'https://rickandmortyapi.com/api/episode/20', 'https://rickandmortyapi.com/api/episode/21', 'https://rickandmortyapi.com/api/episode/22', 'https://rickandmortyapi.com/api/episode/23', 'https://rickandmortyapi.com/api/episode/24', 'https://rickandmortyapi.com/api/episode/25', 'https://rickandmortyapi.com/api/episode/26', 'https://rickandmortyapi.com/api/episode/27', 'https://rickandmortyapi.com/api/episode/29', 'https://rickandmortyapi.com/api/episode/30', 'https://rickandmortyapi.com/api/episode/31', 'https://rickandmortyapi.com/api/episode/32', 'https://rickandmortyapi.com/api/episode/33', 'https://rickandmortyapi.com/api/episode/34', 'https://rickandmortyapi.com/api/episode/35', 'https://rickandmortyapi.com/api/episode/36', 'https://rickandmortyapi.com/api/episode/38', 'https://rickandmortyapi.com/api/episode/39', 'https://rickandmortyapi.com/api/episode/40', 'https://rickandmortyapi.com/api/episode/41', 'https://rickandmortyapi.com/api/episode/42', 'https://rickandmortyapi.com/api/episode/43', 'https://rickandmortyapi.com/api/episode/44', 'https://rickandmortyapi.com/api/episode/45', 'https://rickandmortyapi.com/api/episode/46', 'https://rickandmortyapi.com/api/episode/47', 'https://rickandmortyapi.com/api/episode/48', 'https://rickandmortyapi.com/api/episode/49', 'https://rickandmortyapi.com/api/episode/51'], 'url': 'https://rickandmortyapi.com/api/character/3', 'created': '2017-11-04T19:09:56.428Z'}, {'id': 4, 'name': 'Beth Smith', 'status': 'Alive', 'species': 'Human', 'type': '', 'gender': 'Female', 'origin': {'name': 'Earth (Replacement Dimension)', 'url': 'https://rickandmortyapi.com/api/location/20'}, 'location': {'name': 'Earth (Replacement Dimension)', 'url': 'https://rickandmortyapi.com/api/location/20'}, 'image': 'https://rickandmortyapi.com/api/character/avatar/4.jpeg', 'episode': ['https://rickandmortyapi.com/api/episode/6', 'https://rickandmortyapi.com/api/episode/7', 'https://rickandmortyapi.com/api/episode/8', 'https://rickandmortyapi.com/api/episode/9', 'https://rickandmortyapi.com/api/episode/10', 'https://rickandmortyapi.com/api/episode/11', 'https://rickandmortyapi.com/api/episode/12', 'https://rickandmortyapi.com/api/episode/14', 'https://rickandmortyapi.com/api/episode/15', 'https://rickandmortyapi.com/api/episode/16', 'https://rickandmortyapi.com/api/episode/18', 'https://rickandmortyapi.com/api/episode/19', 'https://rickandmortyapi.com/api/episode/20', 'https://rickandmortyapi.com/api/episode/21', 'https://rickandmortyapi.com/api/episode/22', 'https://rickandmortyapi.com/api/episode/23', 'https://rickandmortyapi.com/api/episode/24', 'https://rickandmortyapi.com/api/episode/25', 'https://rickandmortyapi.com/api/episode/26', 'https://rickandmortyapi.com/api/episode/27', 'https://rickandmortyapi.com/api/episode/28', 'https://rickandmortyapi.com/api/episode/29', 'https://rickandmortyapi.com/api/episode/30', 'https://rickandmortyapi.com/api/episode/31', 'https://rickandmortyapi.com/api/episode/32', 'https://rickandmortyapi.com/api/episode/33', 'https://rickandmortyapi.com/api/episode/34', 'https://rickandmortyapi.com/api/episode/35', 'https://rickandmortyapi.com/api/episode/36', 'https://rickandmortyapi.com/api/episode/38', 'https://rickandmortyapi.com/api/episode/39', 'https://rickandmortyapi.com/api/episode/40', 'https://rickandmortyapi.com/api/episode/41', 'https://rickandmortyapi.com/api/episode/42', 'https://rickandmortyapi.com/api/episode/43', 'https://rickandmortyapi.com/api/episode/44', 'https://rickandmortyapi.com/api/episode/45', 'https://rickandmortyapi.com/api/episode/46', 'https://rickandmortyapi.com/api/episode/47', 'https://rickandmortyapi.com/api/episode/48', 'https://rickandmortyapi.com/api/episode/49', 'https://rickandmortyapi.com/api/episode/51'], 'url': 'https://rickandmortyapi.com/api/character/4', 'created': '2017-11-04T19:22:43.665Z'}, {'id': 5, 'name': 'Jerry Smith', 'status': 'Alive', 'species': 'Human', 'type': '', 'gender': 'Male', 'origin': {'name': 'Earth (Replacement Dimension)', 'url': 'https://rickandmortyapi.com/api/location/20'}, 'location': {'name': 'Earth (Replacement Dimension)', 'url': 'https://rickandmortyapi.com/api/location/20'}, 'image': 'https://rickandmortyapi.com/api/character/avatar/5.jpeg', 'episode': ['https://rickandmortyapi.com/api/episode/6', 'https://rickandmortyapi.com/api/episode/7', 'https://rickandmortyapi.com/api/episode/8', 'https://rickandmortyapi.com/api/episode/9', 'https://rickandmortyapi.com/api/episode/10', 'https://rickandmortyapi.com/api/episode/11', 'https://rickandmortyapi.com/api/episode/12', 'https://rickandmortyapi.com/api/episode/13', 'https://rickandmortyapi.com/api/episode/14', 'https://rickandmortyapi.com/api/episode/15', 'https://rickandmortyapi.com/api/episode/16', 'https://rickandmortyapi.com/api/episode/18', 'https://rickandmortyapi.com/api/episode/19', 'https://rickandmortyapi.com/api/episode/20', 'https://rickandmortyapi.com/api/episode/21', 'https://rickandmortyapi.com/api/episode/22', 'https://rickandmortyapi.com/api/episode/23', 'https://rickandmortyapi.com/api/episode/26', 'https://rickandmortyapi.com/api/episode/29', 'https://rickandmortyapi.com/api/episode/30', 'https://rickandmortyapi.com/api/episode/31', 'https://rickandmortyapi.com/api/episode/32', 'https://rickandmortyapi.com/api/episode/33', 'https://rickandmortyapi.com/api/episode/35', 'https://rickandmortyapi.com/api/episode/36', 'https://rickandmortyapi.com/api/episode/38', 'https://rickandmortyapi.com/api/episode/39', 'https://rickandmortyapi.com/api/episode/40', 'https://rickandmortyapi.com/api/episode/41', 'https://rickandmortyapi.com/api/episode/42', 'https://rickandmortyapi.com/api/episode/43', 'https://rickandmortyapi.com/api/episode/44', 'https://rickandmortyapi.com/api/episode/45', 'https://rickandmortyapi.com/api/episode/46', 'https://rickandmortyapi.com/api/episode/47', 'https://rickandmortyapi.com/api/episode/48', 'https://rickandmortyapi.com/api/episode/49', 'https://rickandmortyapi.com/api/episode/50', 'https://rickandmortyapi.com/api/episode/51'], 'url': 'https://rickandmortyapi.com/api/character/5', 'created': '2017-11-04T19:26:56.301Z'}, {'id': 6, 'name': 'Abadango Cluster Princess', 'status': 'Alive', 'species': 'Alien', 'type': '', 'gender': 'Female', 'origin': {'name': 'Abadango', 'url': 'https://rickandmortyapi.com/api/location/2'}, 'location': {'name': 'Abadango', 'url': 'https://rickandmortyapi.com/api/location/2'}, 'image': 'https://rickandmortyapi.com/api/character/avatar/6.jpeg', 'episode': ['https://rickandmortyapi.com/api/episode/27'], 'url': 'https://rickandmortyapi.com/api/character/6', 'created': '2017-11-04T19:50:28.250Z'}, {'id': 7, 'name': 'Abradolf Lincler', 'status': 'unknown', 'species': 'Human', 'type': 'Genetic experiment', 'gender': 'Male', 'origin': {'name': 'Earth (Replacement Dimension)', 'url': 'https://rickandmortyapi.com/api/location/20'}, 'location': {'name': 'Testicle Monster Dimension', 'url': 'https://rickandmortyapi.com/api/location/21'}, 'image': 'https://rickandmortyapi.com/api/character/avatar/7.jpeg', 'episode': ['https://rickandmortyapi.com/api/episode/10', 'https://rickandmortyapi.com/api/episode/11'], 'url': 'https://rickandmortyapi.com/api/character/7', 'created': '2017-11-04T19:59:20.523Z'}, {'id': 8, 'name': 'Adjudicator Rick', 'status': 'Dead', 'species': 'Human', 'type': '', 'gender': 'Male', 'origin': {'name': 'unknown', 'url': ''}, 'location': {'name': 'Citadel of Ricks', 'url': 'https://rickandmortyapi.com/api/location/3'}, 'image': 'https://rickandmortyapi.com/api/character/avatar/8.jpeg', 'episode': ['https://rickandmortyapi.com/api/episode/28'], 'url': 'https://rickandmortyapi.com/api/character/8', 'created': '2017-11-04T20:03:34.737Z'}, {'id': 9, 'name': 'Agency Director', 'status': 'Dead', 'species': 'Human', 'type': '', 'gender': 'Male', 'origin': {'name': 'Earth (Replacement Dimension)', 'url': 'https://rickandmortyapi.com/api/location/20'}, 'location': {'name': 'Earth (Replacement Dimension)', 'url': 'https://rickandmortyapi.com/api/location/20'}, 'image': 'https://rickandmortyapi.com/api/character/avatar/9.jpeg', 'episode': ['https://rickandmortyapi.com/api/episode/24'], 'url': 'https://rickandmortyapi.com/api/character/9', 'created': '2017-11-04T20:06:54.976Z'}, {'id': 10, 'name': 'Alan Rails', 'status': 'Dead', 'species': 'Human', 'type': 'Superhuman (Ghost trains summoner)', 'gender': 'Male', 'origin': {'name': 'unknown', 'url': ''}, 'location': {'name': \"Worldender's lair\", 'url': 'https://rickandmortyapi.com/api/location/4'}, 'image': 'https://rickandmortyapi.com/api/character/avatar/10.jpeg', 'episode': ['https://rickandmortyapi.com/api/episode/25'], 'url': 'https://rickandmortyapi.com/api/character/10', 'created': '2017-11-04T20:19:09.017Z'}, {'id': 11, 'name': 'Albert Einstein', 'status': 'Dead', 'species': 'Human', 'type': '', 'gender': 'Male', 'origin': {'name': 'Earth (C-137)', 'url': 'https://rickandmortyapi.com/api/location/1'}, 'location': {'name': 'Earth (Replacement Dimension)', 'url': 'https://rickandmortyapi.com/api/location/20'}, 'image': 'https://rickandmortyapi.com/api/character/avatar/11.jpeg', 'episode': ['https://rickandmortyapi.com/api/episode/12'], 'url': 'https://rickandmortyapi.com/api/character/11', 'created': '2017-11-04T20:20:20.965Z'}, {'id': 12, 'name': 'Alexander', 'status': 'Dead', 'species': 'Human', 'type': '', 'gender': 'Male', 'origin': {'name': 'Earth (C-137)', 'url': 'https://rickandmortyapi.com/api/location/1'}, 'location': {'name': 'Anatomy Park', 'url': 'https://rickandmortyapi.com/api/location/5'}, 'image': 'https://rickandmortyapi.com/api/character/avatar/12.jpeg', 'episode': ['https://rickandmortyapi.com/api/episode/3'], 'url': 'https://rickandmortyapi.com/api/character/12', 'created': '2017-11-04T20:32:33.144Z'}, {'id': 13, 'name': 'Alien Googah', 'status': 'unknown', 'species': 'Alien', 'type': '', 'gender': 'unknown', 'origin': {'name': 'unknown', 'url': ''}, 'location': {'name': 'Earth (Replacement Dimension)', 'url': 'https://rickandmortyapi.com/api/location/20'}, 'image': 'https://rickandmortyapi.com/api/character/avatar/13.jpeg', 'episode': ['https://rickandmortyapi.com/api/episode/31'], 'url': 'https://rickandmortyapi.com/api/character/13', 'created': '2017-11-04T20:33:30.779Z'}, {'id': 14, 'name': 'Alien Morty', 'status': 'unknown', 'species': 'Alien', 'type': '', 'gender': 'Male', 'origin': {'name': 'unknown', 'url': ''}, 'location': {'name': 'Citadel of Ricks', 'url': 'https://rickandmortyapi.com/api/location/3'}, 'image': 'https://rickandmortyapi.com/api/character/avatar/14.jpeg', 'episode': ['https://rickandmortyapi.com/api/episode/10'], 'url': 'https://rickandmortyapi.com/api/character/14', 'created': '2017-11-04T20:51:31.373Z'}, {'id': 15, 'name': 'Alien Rick', 'status': 'unknown', 'species': 'Alien', 'type': '', 'gender': 'Male', 'origin': {'name': 'unknown', 'url': ''}, 'location': {'name': 'Citadel of Ricks', 'url': 'https://rickandmortyapi.com/api/location/3'}, 'image': 'https://rickandmortyapi.com/api/character/avatar/15.jpeg', 'episode': ['https://rickandmortyapi.com/api/episode/10'], 'url': 'https://rickandmortyapi.com/api/character/15', 'created': '2017-11-04T20:56:13.215Z'}, {'id': 16, 'name': 'Amish Cyborg', 'status': 'Dead', 'species': 'Alien', 'type': 'Parasite', 'gender': 'Male', 'origin': {'name': 'unknown', 'url': ''}, 'location': {'name': 'Earth (Replacement Dimension)', 'url': 'https://rickandmortyapi.com/api/location/20'}, 'image': 'https://rickandmortyapi.com/api/character/avatar/16.jpeg', 'episode': ['https://rickandmortyapi.com/api/episode/15'], 'url': 'https://rickandmortyapi.com/api/character/16', 'created': '2017-11-04T21:12:45.235Z'}, {'id': 17, 'name': 'Annie', 'status': 'Alive', 'species': 'Human', 'type': '', 'gender': 'Female', 'origin': {'name': 'Earth (C-137)', 'url': 'https://rickandmortyapi.com/api/location/1'}, 'location': {'name': 'Anatomy Park', 'url': 'https://rickandmortyapi.com/api/location/5'}, 'image': 'https://rickandmortyapi.com/api/character/avatar/17.jpeg', 'episode': ['https://rickandmortyapi.com/api/episode/3'], 'url': 'https://rickandmortyapi.com/api/character/17', 'created': '2017-11-04T22:21:24.481Z'}, {'id': 18, 'name': 'Antenna Morty', 'status': 'Alive', 'species': 'Human', 'type': 'Human with antennae', 'gender': 'Male', 'origin': {'name': 'unknown', 'url': ''}, 'location': {'name': 'Citadel of Ricks', 'url': 'https://rickandmortyapi.com/api/location/3'}, 'image': 'https://rickandmortyapi.com/api/character/avatar/18.jpeg', 'episode': ['https://rickandmortyapi.com/api/episode/10', 'https://rickandmortyapi.com/api/episode/28'], 'url': 'https://rickandmortyapi.com/api/character/18', 'created': '2017-11-04T22:25:29.008Z'}, {'id': 19, 'name': 'Antenna Rick', 'status': 'unknown', 'species': 'Human', 'type': 'Human with antennae', 'gender': 'Male', 'origin': {'name': 'unknown', 'url': ''}, 'location': {'name': 'unknown', 'url': ''}, 'image': 'https://rickandmortyapi.com/api/character/avatar/19.jpeg', 'episode': ['https://rickandmortyapi.com/api/episode/10'], 'url': 'https://rickandmortyapi.com/api/character/19', 'created': '2017-11-04T22:28:13.756Z'}, {'id': 20, 'name': 'Ants in my Eyes Johnson', 'status': 'unknown', 'species': 'Human', 'type': 'Human with ants in his eyes', 'gender': 'Male', 'origin': {'name': 'unknown', 'url': ''}, 'location': {'name': 'Interdimensional Cable', 'url': 'https://rickandmortyapi.com/api/location/6'}, 'image': 'https://rickandmortyapi.com/api/character/avatar/20.jpeg', 'episode': ['https://rickandmortyapi.com/api/episode/8'], 'url': 'https://rickandmortyapi.com/api/character/20', 'created': '2017-11-04T22:34:53.659Z'}]}\n"
     ]
    }
   ],
   "source": [
    "data = requests.get('https://rickandmortyapi.com/api/character')\n",
    "response = data.json()\n",
    "print(response)"
   ]
  },
  {
   "cell_type": "markdown",
   "id": "d9f7ec41-9ce9-4990-a544-b2a87a103fea",
   "metadata": {},
   "source": [
    "### Salvando o Titulo de Nível results"
   ]
  },
  {
   "cell_type": "code",
   "execution_count": 27,
   "id": "e30e0666-acc4-48d0-8153-c5d0254bece6",
   "metadata": {},
   "outputs": [],
   "source": [
    "characters = response['results']\n",
    "\n"
   ]
  },
  {
   "cell_type": "markdown",
   "id": "21fdb449-80af-43b4-b7ce-6a5e7c885a7b",
   "metadata": {},
   "source": [
    "###  Normalização e Extração de Dados com json_normalize"
   ]
  },
  {
   "cell_type": "code",
   "execution_count": 8,
   "id": "cfe0a95b-722e-498f-9f6c-9f2cdc9a93cd",
   "metadata": {},
   "outputs": [
    {
     "data": {
      "text/plain": [
       "Index(['id', 'name', 'status', 'species', 'type', 'gender', 'image', 'episode',\n",
       "       'url', 'created', 'origin.name', 'origin.url', 'location.name',\n",
       "       'location.url'],\n",
       "      dtype='object')"
      ]
     },
     "execution_count": 8,
     "metadata": {},
     "output_type": "execute_result"
    }
   ],
   "source": [
    "characters_rickemorty = pd.json_normalize(characters,meta = ['name','status','type','gender'])\n"
   ]
  },
  {
   "cell_type": "markdown",
   "id": "ca9f5e4a-81bd-4dd9-993a-27cf0a57a646",
   "metadata": {},
   "source": [
    "### Renomeando Colunas"
   ]
  },
  {
   "cell_type": "code",
   "execution_count": 12,
   "id": "e3c1ad39-6157-4e01-aece-98309c0cd444",
   "metadata": {},
   "outputs": [],
   "source": [
    "characters_rickemorty.rename(columns = {'origin.name': 'origin',\n",
    "                                       'location.name':'location'},inplace=True)"
   ]
  },
  {
   "cell_type": "markdown",
   "id": "5d69c819-e286-4324-a4ea-40d89356c707",
   "metadata": {},
   "source": [
    "### Retirando o T da coluna de data"
   ]
  },
  {
   "cell_type": "code",
   "execution_count": 17,
   "id": "9eda74b4-b466-42d7-ab76-cfb25c9c01a3",
   "metadata": {},
   "outputs": [],
   "source": [
    "characters_rickemorty['created'] = characters_rickemorty['created'].str.replace('T',' ')                                            "
   ]
  },
  {
   "cell_type": "markdown",
   "id": "4bedf210-2b56-4e5f-964e-593a5e4c8a5b",
   "metadata": {},
   "source": [
    "### Ajuste correto de data e conversão para datatetime"
   ]
  },
  {
   "cell_type": "code",
   "execution_count": null,
   "id": "2bd50cf1-88b8-4ad4-a0db-ca68bfa5efc4",
   "metadata": {},
   "outputs": [],
   "source": [
    "characters_rickemorty['created'] = characters_rickemorty['created'].str[0:19]\n",
    "characters_rickemorty['created'] = pd.to_datetime(characters_rickemorty['created'],format = '%Y-%m-%d %H:%M:%S')"
   ]
  },
  {
   "cell_type": "markdown",
   "id": "dc89baab-a3d2-4ada-8f0e-b71acfa319bd",
   "metadata": {},
   "source": [
    "### Realizando o agrupamento para analise e filtragem dos dados de analise"
   ]
  },
  {
   "cell_type": "code",
   "execution_count": 40,
   "id": "db740fc6-5576-4474-8203-b3a145672832",
   "metadata": {},
   "outputs": [
    {
     "data": {
      "text/html": [
       "<div>\n",
       "<style scoped>\n",
       "    .dataframe tbody tr th:only-of-type {\n",
       "        vertical-align: middle;\n",
       "    }\n",
       "\n",
       "    .dataframe tbody tr th {\n",
       "        vertical-align: top;\n",
       "    }\n",
       "\n",
       "    .dataframe thead th {\n",
       "        text-align: right;\n",
       "    }\n",
       "</style>\n",
       "<table border=\"1\" class=\"dataframe\">\n",
       "  <thead>\n",
       "    <tr style=\"text-align: right;\">\n",
       "      <th></th>\n",
       "      <th></th>\n",
       "      <th>Personagens_Quantidade</th>\n",
       "    </tr>\n",
       "    <tr>\n",
       "      <th>gender</th>\n",
       "      <th>status</th>\n",
       "      <th></th>\n",
       "    </tr>\n",
       "  </thead>\n",
       "  <tbody>\n",
       "    <tr>\n",
       "      <th>Female</th>\n",
       "      <th>Alive</th>\n",
       "      <td>4</td>\n",
       "    </tr>\n",
       "    <tr>\n",
       "      <th rowspan=\"2\" valign=\"top\">Male</th>\n",
       "      <th>Alive</th>\n",
       "      <td>4</td>\n",
       "    </tr>\n",
       "    <tr>\n",
       "      <th>Dead</th>\n",
       "      <td>6</td>\n",
       "    </tr>\n",
       "  </tbody>\n",
       "</table>\n",
       "</div>"
      ],
      "text/plain": [
       "               Personagens_Quantidade\n",
       "gender status                        \n",
       "Female Alive                        4\n",
       "Male   Alive                        4\n",
       "       Dead                         6"
      ]
     },
     "execution_count": 40,
     "metadata": {},
     "output_type": "execute_result"
    }
   ],
   "source": [
    "characters_filtrado = characters_rickemorty[(characters_rickemorty['gender'] != 'unknown') & (characters_rickemorty['status'] != 'unknown')]\n",
    "agrup = characters_filtrado.groupby(['gender','status']).agg(Personagens_Quantidade = ('id','size'))\n",
    "agrup"
   ]
  },
  {
   "cell_type": "markdown",
   "id": "88fcaece-d5fb-433a-a7d4-a84b47db730f",
   "metadata": {},
   "source": [
    "### Resetando o index para analise em grafico"
   ]
  },
  {
   "cell_type": "code",
   "execution_count": 41,
   "id": "ad5add85-689e-4f87-9222-1a44c7317401",
   "metadata": {},
   "outputs": [],
   "source": [
    "agrup = agrup.reset_index()"
   ]
  },
  {
   "cell_type": "markdown",
   "id": "2ef41704-0a87-4727-9928-2e9fdfca9e24",
   "metadata": {},
   "source": [
    "### Plotagem de gráfico de barras para uma analise detalhada"
   ]
  },
  {
   "cell_type": "code",
   "execution_count": 117,
   "id": "05c54e1f-75cf-4703-9261-57c8463493a8",
   "metadata": {},
   "outputs": [
    {
     "data": {
      "image/png": "[encoded data removed]",
      "text/plain": [
       "<Figure size 600x400 with 2 Axes>"
      ]
     },
     "metadata": {},
     "output_type": "display_data"
    }
   ],
   "source": [
    "rick_morty = plt.figure(figsize=(6, 4))\n",
    "\n",
    "plt.suptitle('Análise Personagens', y=1.05)\n",
    "\n",
    "rick_morty.add_subplot(1, 2, 1)\n",
    "plt.title('Análise em Base de Gênero')\n",
    "plt.bar(agrup['gender'], agrup['Personagens_Quantidade'], color='g')\n",
    "plt.ylim(0, 7)\n",
    "plt.yticks([1, 2, 3, 4, 5, 6])\n",
    "plt.grid()\n",
    "\n",
    "rick_morty.add_subplot(1, 2, 2)\n",
    "plt.title('Análise em Base de Status')\n",
    "plt.bar(agrup['status'], agrup['Personagens_Quantidade'], color='y')\n",
    "plt.ylim(0, 7)\n",
    "plt.yticks([1, 2, 3, 4, 5, 6])\n",
    "plt.grid()\n",
    "\n",
    "plt.subplots_adjust(wspace=2, top=0.85)\n",
    "plt.tight_layout(rect=[0, 0, 1, 0.95])\n",
    "\n",
    "plt.savefig('Analise_Personagens.png', bbox_inches='tight')\n",
    "\n",
    "plt.show()\n"
   ]
  },
  {
   "cell_type": "code",
   "execution_count": null,
   "id": "f093a96d-b39c-4471-b836-91c3972b2e09",
   "metadata": {},
   "outputs": [],
   "source": []
  }
 ],
 "metadata": {
  "kernelspec": {
   "display_name": "Python 3 (ipykernel)",
   "language": "python",
   "name": "python3"
  },
  "language_info": {
   "codemirror_mode": {
    "name": "ipython",
    "version": 3
   },
   "file_extension": ".py",
   "mimetype": "text/x-python",
   "name": "python",
   "nbconvert_exporter": "python",
   "pygments_lexer": "ipython3",
   "version": "3.11.7"
  }
 },
 "nbformat": 4,
 "nbformat_minor": 5
}
